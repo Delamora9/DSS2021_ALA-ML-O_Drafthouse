{
 "cells": [
  {
   "cell_type": "code",
   "execution_count": null,
   "id": "4b3c26d9",
   "metadata": {},
   "outputs": [],
   "source": [
    "import json\n",
    "compFolder = '../DSS_2021/DataScienceSummit2021_Competition/dss_theater_datacomp_2021/'"
   ]
  },
  {
   "cell_type": "code",
   "execution_count": null,
   "id": "97b9830f",
   "metadata": {},
   "outputs": [],
   "source": [
    "jsonFile = open(compFolder+'formattedTrainingData.json')"
   ]
  },
  {
   "cell_type": "code",
   "execution_count": null,
   "id": "3ca91b2a",
   "metadata": {},
   "outputs": [],
   "source": [
    "trainingData = json.load(jsonFile)\n",
    "jsonFile.close()"
   ]
  },
  {
   "cell_type": "code",
   "execution_count": null,
   "id": "7af8fe81",
   "metadata": {},
   "outputs": [],
   "source": [
    "from math import floor\n",
    "from random import random,seed"
   ]
  },
  {
   "cell_type": "code",
   "execution_count": null,
   "id": "2a67f3c1",
   "metadata": {},
   "outputs": [],
   "source": [
    "def countClass(classification, data):\n",
    "    total = 0\n",
    "    for elem in data:\n",
    "        if data[elem]['TARGET_PANDEMIC_THTR_1'] == classification:\n",
    "            total += 1\n",
    "    return total     "
   ]
  },
  {
   "cell_type": "code",
   "execution_count": null,
   "id": "db2aab90",
   "metadata": {},
   "outputs": [],
   "source": [
    "def countClasses(dataSet):\n",
    "    classCounts = []\n",
    "    classesCounted = []\n",
    "    for data in dataSet:\n",
    "        currItem = dataSet[data]\n",
    "        if currItem['TARGET_PANDEMIC_THTR_1'] not in classesCounted:\n",
    "            classesCounted.append(currItem['TARGET_PANDEMIC_THTR_1'])\n",
    "            classCounts.append({currItem['TARGET_PANDEMIC_THTR_1']:{'count':countClass(currItem['TARGET_PANDEMIC_THTR_1'],dataSet)}})\n",
    "    classCounts.append({'total':len(dataSet)})\n",
    "    for i in range(0,len(classCounts)-1):\n",
    "        for key in list(classCounts[i]):\n",
    "            classCounts[i][key].update({'probability': classCounts[i][key]['count']/classCounts[len(classCounts)-1]['total']})\n",
    "    return (classCounts, classesCounted)"
   ]
  },
  {
   "cell_type": "code",
   "execution_count": null,
   "id": "7addd9a2",
   "metadata": {},
   "outputs": [],
   "source": [
    "def getPossibleClasses(key,dataSet):\n",
    "    possibleClasses = []\n",
    "    for data in dataSet:\n",
    "        if dataSet[data][key] not in possibleClasses:\n",
    "            possibleClasses.append(dataSet[data][key])\n",
    "    return possibleClasses"
   ]
  },
  {
   "cell_type": "code",
   "execution_count": null,
   "id": "51b28f93",
   "metadata": {},
   "outputs": [],
   "source": [
    "def countAttributes(dataSet, categories):\n",
    "    keyCounts = []\n",
    "    initialItem = dataSet[list(dataSet.keys())[0]]\n",
    "    keys = [k for k in initialItem]\n",
    "    for key in initialItem:\n",
    "        keyCounts.append({key:{}})\n",
    "        for cat in categories:\n",
    "            keyCounts[keys.index(key)][key].update({cat:{}})\n",
    "            for classification in getPossibleClasses(key,dataSet):\n",
    "                keyCounts[keys.index(key)][key][cat].update({classification:{'count':0}})\n",
    "            keyCounts[keys.index(key)][key][cat].update({'total':0})\n",
    "    for data in dataSet:\n",
    "        currItem = dataSet[data]\n",
    "        for key in currItem:\n",
    "            keyCounts[keys.index(key)][key][currItem['TARGET_PANDEMIC_THTR_1']][currItem[key]]['count'] += 1\n",
    "            keyCounts[keys.index(key)][key][currItem['TARGET_PANDEMIC_THTR_1']]['total'] += 1\n",
    "    for i in range(0,len(keyCounts)):\n",
    "        for key1 in keyCounts[i]:\n",
    "            for key2 in keyCounts[i][key1]:\n",
    "                for classification in getPossibleClasses(key1,dataSet):\n",
    "                    if keyCounts[i][key1][key2]['total'] == 0:\n",
    "                        keyCounts[i][key1][key2][classification].update({'probability':0})\n",
    "                    else:\n",
    "                        keyCounts[i][key1][key2][classification].update({'probability':keyCounts[i][key1][key2][classification]['count']/keyCounts[i][key1][key2]['total']})\n",
    "    return keyCounts"
   ]
  },
  {
   "cell_type": "code",
   "execution_count": null,
   "id": "980658be",
   "metadata": {},
   "outputs": [],
   "source": [
    "def naiveBayes(row,classCounts,attrCounts,possibleClasses):\n",
    "    bayesProbabilities = []\n",
    "    probs = []\n",
    "    keys = [k for k in row]\n",
    "    for classification in possibleClasses:\n",
    "        bayesProb = 1\n",
    "        for key in row:\n",
    "            if key != 'TARGET_PANDEMIC_THTR_1':\n",
    "                bayesProb *= attrCounts[keys.index(key)][key][classification][row[key]]['probability']\n",
    "        bayesProbabilities.append({classification:bayesProb})\n",
    "        probs.append(bayesProb)\n",
    "#     print(bayesProbabilities)\n",
    "    highestProbability = max(probs)\n",
    "    return probs[1]"
   ]
  },
  {
   "cell_type": "code",
   "execution_count": null,
   "id": "b9f7d605",
   "metadata": {
    "scrolled": true
   },
   "outputs": [],
   "source": [
    "testingSize = 1000\n",
    "testing_data = {}\n",
    "seed(0)\n",
    "while(len(testing_data) < testingSize):\n",
    "    ranNum = floor(len(trainingData)*random())\n",
    "    testing_data[list(trainingData.keys())[ranNum]] = trainingData[list(trainingData.keys())[ranNum]]\n",
    "classCounts = countClasses(trainingData)\n",
    "print(classCounts)\n",
    "attributeCounts = countAttributes(trainingData,classCounts[1])\n",
    "# print(attributeCounts)\n",
    "bayesClassifications = []\n",
    "for row in testing_data:\n",
    "    bayesClassifications.append(naiveBayes(testing_data[row], classCounts,attributeCounts,classCounts[1]))\n",
    "print(\"Correct classifications: \", [testing_data[row]['TARGET_PANDEMIC_THTR_1'] for row in testing_data])\n",
    "print(\"Model classifications: \", bayesClassifications)\n",
    "numCorrect = 0\n",
    "for i in range(0, len(testing_data)):\n",
    "    if testing_data[list(testing_data.keys())[i]]['TARGET_PANDEMIC_THTR_1'] == bayesClassifications[i]:\n",
    "        numCorrect += 1\n",
    "print(\"Accuracy: \", (numCorrect/testingSize)*100, '%')"
   ]
  },
  {
   "cell_type": "code",
   "execution_count": null,
   "id": "be1a6ca1",
   "metadata": {},
   "outputs": [],
   "source": []
  }
 ],
 "metadata": {
  "kernelspec": {
   "display_name": "Python 3",
   "language": "python",
   "name": "python3"
  },
  "language_info": {
   "codemirror_mode": {
    "name": "ipython",
    "version": 3
   },
   "file_extension": ".py",
   "mimetype": "text/x-python",
   "name": "python",
   "nbconvert_exporter": "python",
   "pygments_lexer": "ipython3",
   "version": "3.8.8"
  }
 },
 "nbformat": 4,
 "nbformat_minor": 5
}
