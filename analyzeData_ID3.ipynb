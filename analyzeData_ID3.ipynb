{
 "cells": [
  {
   "cell_type": "code",
   "execution_count": null,
   "id": "b024f697",
   "metadata": {},
   "outputs": [],
   "source": [
    "import json\n",
    "compFolder = '../DSS_2021/DataScienceSummit2021_Competition/dss_theater_datacomp_2021/'"
   ]
  },
  {
   "cell_type": "code",
   "execution_count": null,
   "id": "831d7fe8",
   "metadata": {},
   "outputs": [],
   "source": [
    "jsonFile = open(compFolder+'formattedTrainingData.json')"
   ]
  },
  {
   "cell_type": "code",
   "execution_count": null,
   "id": "c9a556ba",
   "metadata": {},
   "outputs": [],
   "source": [
    "trainingData = json.load(jsonFile)\n",
    "jsonFile.close()"
   ]
  },
  {
   "cell_type": "code",
   "execution_count": null,
   "id": "c43d50c4",
   "metadata": {},
   "outputs": [],
   "source": [
    "print(list(trainingData.keys())[0:10])"
   ]
  },
  {
   "cell_type": "code",
   "execution_count": null,
   "id": "d7429ace",
   "metadata": {},
   "outputs": [],
   "source": [
    "print(trainingData['-1731829955'])"
   ]
  },
  {
   "cell_type": "code",
   "execution_count": null,
   "id": "4f902c41",
   "metadata": {},
   "outputs": [],
   "source": [
    "from math import log,floor"
   ]
  },
  {
   "cell_type": "code",
   "execution_count": null,
   "id": "886c5af7",
   "metadata": {},
   "outputs": [],
   "source": [
    "#Function to calculate the entropy for a given data set\n",
    "def getEntropy(data):\n",
    "    entropy = 0\n",
    "    total = len(data)\n",
    "    counts = [0,0]\n",
    "    #For each data item, check the class and count the number of instances\n",
    "    for user in data:\n",
    "        counts[data[user]['TARGET_PANDEMIC_THTR_1']] += 1\n",
    "    #Summation of probability times log base 2 of probability for each class\n",
    "    for count in counts:\n",
    "        prob = count/total\n",
    "        entropy -= (prob)*log(prob,2)\n",
    "    return entropy"
   ]
  },
  {
   "cell_type": "code",
   "execution_count": null,
   "id": "3efb8ef3",
   "metadata": {},
   "outputs": [],
   "source": [
    "#Function to count the classes for each known value of each attribute \n",
    "#Returns detailed information in the following form\n",
    "#{attribute1: [[value1,value2...'total'], --list of known values\n",
    "#              {value1:[[class1,class2,...'total'], --list of classes for known value\n",
    "#                       {class1: count,class2: count,...} --counts for each class\n",
    "#                        ,...]}] \n",
    "# , attribute2:...]}\n",
    "def getOutcomeData(data):\n",
    "    expectedEntropies = []\n",
    "    classEntropies = []\n",
    "    classes = []\n",
    "    outcomes = {}\n",
    "    total = len(data)\n",
    "    for item in data:\n",
    "        currItem = data[item]\n",
    "        for key in currItem:\n",
    "            currItemVal = currItem[key]\n",
    "            if(key not in classes):\n",
    "                classes.append(key)\n",
    "                outcomes.update({key: [[],{}]})\n",
    "            if(currItemVal not in outcomes[key][0]):\n",
    "                outcomes[key][0].append(currItemVal)\n",
    "                outcomes[key][1].update({currItemVal: [[],{}]})\n",
    "            if(currItem['TARGET_PANDEMIC_THTR_1'] not in outcomes[key][1][currItemVal][0]):\n",
    "                outcomes[key][1][currItemVal][0].append(currItem['TARGET_PANDEMIC_THTR_1'])\n",
    "                outcomes[key][1][currItemVal][1].update({currItem['TARGET_PANDEMIC_THTR_1']: 1})\n",
    "            else:\n",
    "                outcomes[key][1][currItemVal][1][currItem['TARGET_PANDEMIC_THTR_1']] += 1\n",
    "            if('total' not in outcomes[key][1][currItemVal][0]):\n",
    "                outcomes[key][1][currItemVal][0].append('total')\n",
    "                outcomes[key][1][currItemVal][1].update({'total': 1})\n",
    "            else:\n",
    "                outcomes[key][1][currItemVal][1]['total'] += 1\n",
    "    return outcomes"
   ]
  },
  {
   "cell_type": "code",
   "execution_count": null,
   "id": "5f920e0c",
   "metadata": {},
   "outputs": [],
   "source": [
    "#Calculates information gain for each known value\n",
    "def getInformationGain(outcomes, overallEntropy):\n",
    "    gains = {} \n",
    "    total = len(trainingData)\n",
    "    for attribute in outcomes:\n",
    "        classEntropy = 0\n",
    "        for category in outcomes[attribute][0]:\n",
    "            categoryEntropy = 0\n",
    "            for classification in outcomes[attribute][1][category][0]:\n",
    "                if(classification != 'total'):\n",
    "                    prob = outcomes[attribute][1][category][1][classification]/outcomes[attribute][1][category][1]['total']\n",
    "                    categoryEntropy -= prob*log(prob,2)\n",
    "            classEntropy += (outcomes[attribute][1][category][1]['total']/total)*categoryEntropy\n",
    "        gains.update({attribute: overallEntropy-classEntropy})\n",
    "        if(attribute == 'TARGET_PANDEMIC_THTR_1'):\n",
    "            gains.update({attribute: 0})\n",
    "    return gains"
   ]
  },
  {
   "cell_type": "code",
   "execution_count": null,
   "id": "e349717f",
   "metadata": {},
   "outputs": [],
   "source": [
    "#Returns a simplified list of original data that strips the current best attribute\n",
    "#and matches rows for the current known value\n",
    "def getCleanData(originalData, outcomeData, bestAttribute, currentKnownValue):\n",
    "    newData = {}\n",
    "    pureOutcome = [False,False]\n",
    "    #Check to see if there is only one class for the current known value\n",
    "    if(len(outcomeData[bestAttribute][1][currentKnownValue][0]) == 2):\n",
    "        pureOutcome[0] = True\n",
    "    i = 0\n",
    "    #Check each row for current known value at the current best attribute. \n",
    "    #If it matches append it to the next data set\n",
    "    for data in originalData:\n",
    "        currItem = originalData[data]\n",
    "        if(pureOutcome[0] != True and currItem[bestAttribute] == currentKnownValue):\n",
    "            newData[data] = {}\n",
    "            for key in currItem:\n",
    "                if(key != bestAttribute):\n",
    "                    newData[data].update({key:currItem[key]})\n",
    "            i += 1\n",
    "        if(pureOutcome[0] and currItem[bestAttribute] == currentKnownValue):\n",
    "            pureOutcome[1] = currItem['TARGET_PANDEMIC_THTR_1']\n",
    "    return (newData, pureOutcome)"
   ]
  },
  {
   "cell_type": "code",
   "execution_count": null,
   "id": "47ee67a4",
   "metadata": {},
   "outputs": [],
   "source": [
    "#Recursive function to create a decision tree\n",
    "def getDecisionTreeLayer(dataLayer):\n",
    "#     print('Data set')\n",
    "#     print(dataLayer)\n",
    "    classes = []\n",
    "    counts = []\n",
    "    for data in dataLayer:\n",
    "        currItem = dataLayer[data]\n",
    "        if(currItem['TARGET_PANDEMIC_THTR_1'] not in classes):\n",
    "            classes.append(currItem['TARGET_PANDEMIC_THTR_1'])\n",
    "            counts.append(1)\n",
    "        else:\n",
    "            counts[classes.index(currItem['TARGET_PANDEMIC_THTR_1'])] += 1\n",
    "    #If samples are all of the same class then return that class as a node\n",
    "    if(len(classes) == 1):\n",
    "        return classes[0]\n",
    "    attributes = []\n",
    "    for key in dataLayer[list(dataLayer.keys())[0]]:\n",
    "        attributes.append(key)\n",
    "    #If attribute list is empty, return the majority class\n",
    "    if(len(attributes) == 0):\n",
    "        return classes[counts.index(max(counts))]\n",
    "#     print('Classes')\n",
    "#     print(classes)\n",
    "    entropy = getEntropy(dataLayer)\n",
    "#     print('Entropy')\n",
    "#     print(entropy)\n",
    "    outcomeData = getOutcomeData(dataLayer)\n",
    "#     print('Outcomes')\n",
    "#     print(outcomeData)\n",
    "    informationGain = getInformationGain(outcomeData, entropy)\n",
    "#     print('Gains')\n",
    "#     print(informationGain)\n",
    "    maxGain = max(informationGain.values())\n",
    "#     print('Max gain')\n",
    "#     print(maxGain)\n",
    "    #select test attribute, the attribute with the most information gain\n",
    "    bestAttribute = [k for k,v in informationGain.items() if v == maxGain][0]\n",
    "    treeLayer = (bestAttribute, {})\n",
    "    #for each known value of test attribute create a branch\n",
    "    for knownValue in outcomeData[bestAttribute][0]:\n",
    "        if(knownValue != 'total'):\n",
    "            #let the next data set be all rows where the current best attribute\n",
    "            #has the current known value and remove the current best attribute\n",
    "            cleanData = getCleanData(dataLayer,outcomeData,bestAttribute,knownValue)\n",
    "            #if the resulting data set has only one class return that as a node\n",
    "            if cleanData[1][0]:\n",
    "#                 print('Pure outcome')\n",
    "#                 print(cleanData)\n",
    "                treeLayer[1].update({knownValue:cleanData[1][1]})\n",
    "#                 print(treeLayer)\n",
    "            #else return node generated by recursive call on new data set\n",
    "            else:\n",
    "#                 print('Mixed outcome')\n",
    "                treeLayer[1].update({knownValue:getDecisionTreeLayer(cleanData[0])})\n",
    "#                 print(treeLayer)\n",
    "    treeLayer[1].update({None:classes[counts.index(max(counts))]})\n",
    "    return treeLayer"
   ]
  },
  {
   "cell_type": "code",
   "execution_count": null,
   "id": "d11de30b",
   "metadata": {},
   "outputs": [],
   "source": [
    "def testDecisionTree(tree, data):\n",
    "    if(tree == 0 or tree == 1):\n",
    "        return tree\n",
    "    else:\n",
    "        if data[tree[0]] in tree[1].keys():\n",
    "            return testDecisionTree(tree[1][data[tree[0]]], data)\n",
    "        else:\n",
    "            return testDecisionTree(tree[1][None], data)"
   ]
  },
  {
   "cell_type": "code",
   "execution_count": null,
   "id": "e0bdb30c",
   "metadata": {},
   "outputs": [],
   "source": [
    "from random import random,seed"
   ]
  },
  {
   "cell_type": "code",
   "execution_count": null,
   "id": "74a38884",
   "metadata": {},
   "outputs": [],
   "source": [
    "testingSize = 10000\n",
    "testingIndeces = []\n",
    "seed(0)\n",
    "while(len(testingIndeces) < testingSize):\n",
    "    ranNum = floor(len(trainingData)*random())\n",
    "    if list(trainingData.keys())[ranNum] not in testingIndeces:\n",
    "        testingIndeces.append(list(trainingData.keys())[ranNum])\n",
    "training_data = {}\n",
    "testing_data = {}\n",
    "for i in range(0, len(trainingData)):\n",
    "    if list(trainingData.keys())[i] not in testingIndeces:\n",
    "        training_data[list(trainingData.keys())[i]] = trainingData[list(trainingData.keys())[i]]\n",
    "    else:\n",
    "        testing_data[list(trainingData.keys())[i]] = trainingData[list(trainingData.keys())[i]]\n",
    "#print(\"Testing samples indeces: \", testingIndeces)\n",
    "decisionTree = getDecisionTreeLayer(training_data)\n",
    "treeClassifications = []\n",
    "for row in testing_data:\n",
    "    treeClassifications.append(testDecisionTree(decisionTree, testing_data[row]))\n",
    "#print(\"Correct classifications: \", [testing_data[row]['TARGET_PANDEMIC_THTR_1'] for row in testing_data])\n",
    "#print(\"Model classifications: \", treeClassifications)\n",
    "numCorrect = 0\n",
    "for i in range(0, len(testing_data)):\n",
    "    if testing_data[list(testing_data.keys())[i]]['TARGET_PANDEMIC_THTR_1'] == treeClassifications[i]:\n",
    "        numCorrect += 1\n",
    "print(\"Accuracy: \", (numCorrect/testingSize)*100, '%')"
   ]
  },
  {
   "cell_type": "code",
   "execution_count": null,
   "id": "3c3a9f6f",
   "metadata": {},
   "outputs": [],
   "source": [
    "print(decisionTree[1])"
   ]
  },
  {
   "cell_type": "code",
   "execution_count": null,
   "id": "18e1a03c",
   "metadata": {},
   "outputs": [],
   "source": []
  }
 ],
 "metadata": {
  "kernelspec": {
   "display_name": "Python 3",
   "language": "python",
   "name": "python3"
  },
  "language_info": {
   "codemirror_mode": {
    "name": "ipython",
    "version": 3
   },
   "file_extension": ".py",
   "mimetype": "text/x-python",
   "name": "python",
   "nbconvert_exporter": "python",
   "pygments_lexer": "ipython3",
   "version": "3.8.8"
  }
 },
 "nbformat": 4,
 "nbformat_minor": 5
}
