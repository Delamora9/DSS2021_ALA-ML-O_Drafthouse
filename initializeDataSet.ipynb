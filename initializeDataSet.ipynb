{
 "cells": [
  {
   "cell_type": "code",
   "execution_count": 1,
   "id": "49b0d5e9",
   "metadata": {},
   "outputs": [],
   "source": [
    "import csv\n",
    "import json\n",
    "compFolder = '../DSS_2021/DataScienceSummit2021_Competition/dss_theater_datacomp_2021/'"
   ]
  },
  {
   "cell_type": "code",
   "execution_count": 2,
   "id": "b0070016",
   "metadata": {},
   "outputs": [],
   "source": [
    "userData = open(compFolder+'train_users.csv', newline='')"
   ]
  },
  {
   "cell_type": "code",
   "execution_count": 3,
   "id": "dea04435",
   "metadata": {},
   "outputs": [],
   "source": [
    "fileReader = csv.reader(userData, delimiter='\\t')"
   ]
  },
  {
   "cell_type": "code",
   "execution_count": 4,
   "id": "0ffa3269",
   "metadata": {},
   "outputs": [
    {
     "name": "stdout",
     "output_type": "stream",
     "text": [
      "['USER_ID', 'STATE_NAME', 'ZIP_CODE', 'GENDER_NAME', 'ETHNICITY_NAME', 'EDUCATION_NAME', 'HOUSEHOLD_INCOME_NAME', 'NUMBER_OF_ADULTS', 'NUMBER_OF_PEOPLE', 'MARITAL_STATUS_NAME']\n"
     ]
    }
   ],
   "source": [
    "featureSet = []\n",
    "i = 0\n",
    "for row in fileReader:\n",
    "    if i == 0:\n",
    "        featureSet = (', '.join(row)).split(',')\n",
    "    else:\n",
    "        break\n",
    "    i += 1\n",
    "print(featureSet)"
   ]
  },
  {
   "cell_type": "code",
   "execution_count": 5,
   "id": "8332b4e5",
   "metadata": {},
   "outputs": [],
   "source": [
    "userData.close()\n",
    "userData = open(compFolder+'train_users.csv', newline='')"
   ]
  },
  {
   "cell_type": "code",
   "execution_count": 6,
   "id": "2fef0a9f",
   "metadata": {},
   "outputs": [
    {
     "name": "stdout",
     "output_type": "stream",
     "text": [
      "22161\n",
      "22160\n",
      "{'STATE_NAME': 'NC', 'ZIP_CODE': 28012, 'GENDER_NAME': 'M', 'ETHNICITY_NAME': 'NonHwhite', 'EDUCATION_NAME': 'Bachelor', 'HOUSEHOLD_INCOME_NAME': '75-100k', 'NUMBER_OF_ADULTS': 3, 'NUMBER_OF_PEOPLE': 5, 'MARITAL_STATUS_NAME': 'M', 'ORDER_COUNT': 0, 'ORDER_COUNT_THEATER': 0, 'TARGET_PANDEMIC_THTR_1': 0}\n"
     ]
    }
   ],
   "source": [
    "fileReader = csv.reader(userData, delimiter='\\t')\n",
    "trainingData = {}\n",
    "dataSet = []\n",
    "i = 0\n",
    "for row in fileReader:\n",
    "    if i != 0:\n",
    "        dataSet = (', '.join(row)).split(',')\n",
    "        user_id = int(dataSet[0])\n",
    "        trainingData[user_id] = {featureSet[i]:int(dataSet[i]) if dataSet[i].isdigit() else dataSet[i] for i in range(1,len(dataSet))}\n",
    "        trainingData[user_id]['ORDER_COUNT'] = 0\n",
    "        trainingData[user_id]['ORDER_COUNT_THEATER'] = 0\n",
    "        trainingData[user_id]['TARGET_PANDEMIC_THTR_1'] = 0\n",
    "    i += 1\n",
    "print(trainingData[int(list(trainingData.keys())[0])])"
   ]
  },
  {
   "cell_type": "code",
   "execution_count": 7,
   "id": "77a519ec",
   "metadata": {},
   "outputs": [],
   "source": [
    "userData.close()"
   ]
  },
  {
   "cell_type": "code",
   "execution_count": 8,
   "id": "6af95ed2",
   "metadata": {},
   "outputs": [],
   "source": [
    "theaterData = open(compFolder+'train_trans_w_target.csv', newline='')"
   ]
  },
  {
   "cell_type": "code",
   "execution_count": 9,
   "id": "c2725e46",
   "metadata": {},
   "outputs": [],
   "source": [
    "fileReader = csv.reader(theaterData, delimiter='\\t')"
   ]
  },
  {
   "cell_type": "code",
   "execution_count": 10,
   "id": "b2da2f60",
   "metadata": {},
   "outputs": [
    {
     "name": "stdout",
     "output_type": "stream",
     "text": [
      "['USER_ID', 'ORDER_DATE', 'MERCHANT_NAME', 'ITEM_DESCRIPTION', 'ITEM_QUANTITY', 'ITEM_PRICE', 'THEATER_TRANSACTION', 'TARGET_PANDEMIC_THTR_1']\n"
     ]
    }
   ],
   "source": [
    "featureSet = []\n",
    "i = 0\n",
    "for row in fileReader:\n",
    "    if i == 0:\n",
    "        featureSet = (', '.join(row)).split(',')\n",
    "    else:\n",
    "        break\n",
    "    i += 1\n",
    "print(featureSet)"
   ]
  },
  {
   "cell_type": "code",
   "execution_count": 11,
   "id": "3aa2aae1",
   "metadata": {},
   "outputs": [],
   "source": [
    "for row in fileReader:\n",
    "    dataSet = (', '.join(row)).split(',')\n",
    "    user_id = int(dataSet[0])\n",
    "    if(user_id in trainingData.keys()):\n",
    "        trainingData[user_id]['TARGET_PANDEMIC_THTR_1'] = 1 if dataSet[7] == '1' else 0\n",
    "        trainingData[user_id]['ORDER_COUNT'] += 1\n",
    "        if(dataSet[6] == '1'):\n",
    "            trainingData[user_id]['ORDER_COUNT_THEATER'] += 1"
   ]
  },
  {
   "cell_type": "code",
   "execution_count": 12,
   "id": "b9e58af9",
   "metadata": {},
   "outputs": [
    {
     "name": "stdout",
     "output_type": "stream",
     "text": [
      "{'STATE_NAME': 'UT', 'ZIP_CODE': 84041, 'GENDER_NAME': 'F', 'ETHNICITY_NAME': 'NonHwhite', 'EDUCATION_NAME': 'HighSchool', 'HOUSEHOLD_INCOME_NAME': '100-125k', 'NUMBER_OF_ADULTS': 4, 'NUMBER_OF_PEOPLE': '', 'MARITAL_STATUS_NAME': 'M', 'ORDER_COUNT': 63, 'ORDER_COUNT_THEATER': 0, 'TARGET_PANDEMIC_THTR_1': 0}\n"
     ]
    }
   ],
   "source": [
    "print(trainingData[list(trainingData.keys())[2]])"
   ]
  },
  {
   "cell_type": "code",
   "execution_count": 13,
   "id": "6f1f1498",
   "metadata": {},
   "outputs": [],
   "source": [
    "theaterData.close()"
   ]
  },
  {
   "cell_type": "code",
   "execution_count": 14,
   "id": "c64d3f2c",
   "metadata": {},
   "outputs": [],
   "source": [
    "outputFile = open(compFolder+'formattedTrainingData.json', 'w')"
   ]
  },
  {
   "cell_type": "code",
   "execution_count": 15,
   "id": "79f7a9a2",
   "metadata": {},
   "outputs": [],
   "source": [
    "json.dump(trainingData,outputFile)"
   ]
  },
  {
   "cell_type": "code",
   "execution_count": 16,
   "id": "1865e79c",
   "metadata": {},
   "outputs": [],
   "source": [
    "outputFile.close()"
   ]
  },
  {
   "cell_type": "code",
   "execution_count": null,
   "id": "ebb1609d",
   "metadata": {},
   "outputs": [],
   "source": []
  }
 ],
 "metadata": {
  "kernelspec": {
   "display_name": "Python 3",
   "language": "python",
   "name": "python3"
  },
  "language_info": {
   "codemirror_mode": {
    "name": "ipython",
    "version": 3
   },
   "file_extension": ".py",
   "mimetype": "text/x-python",
   "name": "python",
   "nbconvert_exporter": "python",
   "pygments_lexer": "ipython3",
   "version": "3.8.8"
  }
 },
 "nbformat": 4,
 "nbformat_minor": 5
}
